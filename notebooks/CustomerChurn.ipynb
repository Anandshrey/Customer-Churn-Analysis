{
  "cells": [
    {
      "cell_type": "markdown",
      "source": [
        "# Customer Churn Analysis"
      ],
      "metadata": {
        "id": "7if6jqbrnBpf"
      }
    },
    {
      "cell_type": "code",
      "execution_count": null,
      "metadata": {
        "scrolled": true,
        "id": "SExk6JSDXhbs"
      },
      "outputs": [],
      "source": [
        "import pandas as pd\n",
        "import matplotlib.pyplot as plt\n",
        "import seaborn as sns"
      ]
    },
    {
      "cell_type": "markdown",
      "source": [
        "## Read Retail Data File"
      ],
      "metadata": {
        "id": "m3Z4xqpjot8m"
      }
    },
    {
      "cell_type": "code",
      "execution_count": null,
      "metadata": {
        "scrolled": true,
        "id": "kvRIv8JYXhbv"
      },
      "outputs": [],
      "source": [
        "retail = pd.read_csv('retail_data.csv',encoding= 'unicode_escape')"
      ]
    },
    {
      "cell_type": "code",
      "execution_count": null,
      "metadata": {
        "id": "LHjOq264Xhbw",
        "outputId": "f8f92777-0332-4ca7-c8e8-5eea81e03423"
      },
      "outputs": [
        {
          "data": {
            "text/html": [
              "<div>\n",
              "<style scoped>\n",
              "    .dataframe tbody tr th:only-of-type {\n",
              "        vertical-align: middle;\n",
              "    }\n",
              "\n",
              "    .dataframe tbody tr th {\n",
              "        vertical-align: top;\n",
              "    }\n",
              "\n",
              "    .dataframe thead th {\n",
              "        text-align: right;\n",
              "    }\n",
              "</style>\n",
              "<table border=\"1\" class=\"dataframe\">\n",
              "  <thead>\n",
              "    <tr style=\"text-align: right;\">\n",
              "      <th></th>\n",
              "      <th>InvoiceNo</th>\n",
              "      <th>StockCode</th>\n",
              "      <th>Description</th>\n",
              "      <th>Quantity</th>\n",
              "      <th>InvoiceDate</th>\n",
              "      <th>UnitPrice</th>\n",
              "      <th>CustomerID</th>\n",
              "      <th>Country</th>\n",
              "    </tr>\n",
              "  </thead>\n",
              "  <tbody>\n",
              "    <tr>\n",
              "      <th>0</th>\n",
              "      <td>536365</td>\n",
              "      <td>85123A</td>\n",
              "      <td>WHITE HANGING HEART T-LIGHT HOLDER</td>\n",
              "      <td>6</td>\n",
              "      <td>12/1/2010 8:26</td>\n",
              "      <td>2.55</td>\n",
              "      <td>17850.0</td>\n",
              "      <td>United Kingdom</td>\n",
              "    </tr>\n",
              "    <tr>\n",
              "      <th>1</th>\n",
              "      <td>536365</td>\n",
              "      <td>71053</td>\n",
              "      <td>WHITE METAL LANTERN</td>\n",
              "      <td>6</td>\n",
              "      <td>12/1/2010 8:26</td>\n",
              "      <td>3.39</td>\n",
              "      <td>17850.0</td>\n",
              "      <td>United Kingdom</td>\n",
              "    </tr>\n",
              "    <tr>\n",
              "      <th>2</th>\n",
              "      <td>536365</td>\n",
              "      <td>84406B</td>\n",
              "      <td>CREAM CUPID HEARTS COAT HANGER</td>\n",
              "      <td>8</td>\n",
              "      <td>12/1/2010 8:26</td>\n",
              "      <td>2.75</td>\n",
              "      <td>17850.0</td>\n",
              "      <td>United Kingdom</td>\n",
              "    </tr>\n",
              "    <tr>\n",
              "      <th>3</th>\n",
              "      <td>536365</td>\n",
              "      <td>84029G</td>\n",
              "      <td>KNITTED UNION FLAG HOT WATER BOTTLE</td>\n",
              "      <td>6</td>\n",
              "      <td>12/1/2010 8:26</td>\n",
              "      <td>3.39</td>\n",
              "      <td>17850.0</td>\n",
              "      <td>United Kingdom</td>\n",
              "    </tr>\n",
              "    <tr>\n",
              "      <th>4</th>\n",
              "      <td>536365</td>\n",
              "      <td>84029E</td>\n",
              "      <td>RED WOOLLY HOTTIE WHITE HEART.</td>\n",
              "      <td>6</td>\n",
              "      <td>12/1/2010 8:26</td>\n",
              "      <td>3.39</td>\n",
              "      <td>17850.0</td>\n",
              "      <td>United Kingdom</td>\n",
              "    </tr>\n",
              "  </tbody>\n",
              "</table>\n",
              "</div>"
            ],
            "text/plain": [
              "  InvoiceNo StockCode                          Description  Quantity  \\\n",
              "0    536365    85123A   WHITE HANGING HEART T-LIGHT HOLDER         6   \n",
              "1    536365     71053                  WHITE METAL LANTERN         6   \n",
              "2    536365    84406B       CREAM CUPID HEARTS COAT HANGER         8   \n",
              "3    536365    84029G  KNITTED UNION FLAG HOT WATER BOTTLE         6   \n",
              "4    536365    84029E       RED WOOLLY HOTTIE WHITE HEART.         6   \n",
              "\n",
              "      InvoiceDate  UnitPrice  CustomerID         Country  \n",
              "0  12/1/2010 8:26       2.55     17850.0  United Kingdom  \n",
              "1  12/1/2010 8:26       3.39     17850.0  United Kingdom  \n",
              "2  12/1/2010 8:26       2.75     17850.0  United Kingdom  \n",
              "3  12/1/2010 8:26       3.39     17850.0  United Kingdom  \n",
              "4  12/1/2010 8:26       3.39     17850.0  United Kingdom  "
            ]
          },
          "execution_count": 173,
          "metadata": {},
          "output_type": "execute_result"
        }
      ],
      "source": [
        "retail.head()"
      ]
    },
    {
      "cell_type": "code",
      "execution_count": null,
      "metadata": {
        "scrolled": true,
        "id": "eDzXwr2AXhbx",
        "outputId": "9eeed9d5-f850-4010-acb6-ba579055f082"
      },
      "outputs": [
        {
          "name": "stdout",
          "output_type": "stream",
          "text": [
            "<class 'pandas.core.frame.DataFrame'>\n",
            "RangeIndex: 541909 entries, 0 to 541908\n",
            "Data columns (total 8 columns):\n",
            " #   Column       Non-Null Count   Dtype  \n",
            "---  ------       --------------   -----  \n",
            " 0   InvoiceNo    541909 non-null  object \n",
            " 1   StockCode    541909 non-null  object \n",
            " 2   Description  540455 non-null  object \n",
            " 3   Quantity     541909 non-null  int64  \n",
            " 4   InvoiceDate  541909 non-null  object \n",
            " 5   UnitPrice    541909 non-null  float64\n",
            " 6   CustomerID   406829 non-null  float64\n",
            " 7   Country      541909 non-null  object \n",
            "dtypes: float64(2), int64(1), object(5)\n",
            "memory usage: 33.1+ MB\n"
          ]
        }
      ],
      "source": [
        "retail.info()"
      ]
    },
    {
      "cell_type": "code",
      "execution_count": null,
      "metadata": {
        "id": "LE1CFPSMXhbz",
        "outputId": "6a4a10ab-d526-4852-ff0b-c76be163f7c3"
      },
      "outputs": [
        {
          "data": {
            "text/html": [
              "<div>\n",
              "<style scoped>\n",
              "    .dataframe tbody tr th:only-of-type {\n",
              "        vertical-align: middle;\n",
              "    }\n",
              "\n",
              "    .dataframe tbody tr th {\n",
              "        vertical-align: top;\n",
              "    }\n",
              "\n",
              "    .dataframe thead th {\n",
              "        text-align: right;\n",
              "    }\n",
              "</style>\n",
              "<table border=\"1\" class=\"dataframe\">\n",
              "  <thead>\n",
              "    <tr style=\"text-align: right;\">\n",
              "      <th></th>\n",
              "      <th>Quantity</th>\n",
              "      <th>UnitPrice</th>\n",
              "      <th>CustomerID</th>\n",
              "    </tr>\n",
              "  </thead>\n",
              "  <tbody>\n",
              "    <tr>\n",
              "      <th>count</th>\n",
              "      <td>541909.000000</td>\n",
              "      <td>541909.000000</td>\n",
              "      <td>406829.000000</td>\n",
              "    </tr>\n",
              "    <tr>\n",
              "      <th>mean</th>\n",
              "      <td>9.552250</td>\n",
              "      <td>4.611114</td>\n",
              "      <td>15287.690570</td>\n",
              "    </tr>\n",
              "    <tr>\n",
              "      <th>std</th>\n",
              "      <td>218.081158</td>\n",
              "      <td>96.759853</td>\n",
              "      <td>1713.600303</td>\n",
              "    </tr>\n",
              "    <tr>\n",
              "      <th>min</th>\n",
              "      <td>-80995.000000</td>\n",
              "      <td>-11062.060000</td>\n",
              "      <td>12346.000000</td>\n",
              "    </tr>\n",
              "    <tr>\n",
              "      <th>25%</th>\n",
              "      <td>1.000000</td>\n",
              "      <td>1.250000</td>\n",
              "      <td>13953.000000</td>\n",
              "    </tr>\n",
              "    <tr>\n",
              "      <th>50%</th>\n",
              "      <td>3.000000</td>\n",
              "      <td>2.080000</td>\n",
              "      <td>15152.000000</td>\n",
              "    </tr>\n",
              "    <tr>\n",
              "      <th>75%</th>\n",
              "      <td>10.000000</td>\n",
              "      <td>4.130000</td>\n",
              "      <td>16791.000000</td>\n",
              "    </tr>\n",
              "    <tr>\n",
              "      <th>max</th>\n",
              "      <td>80995.000000</td>\n",
              "      <td>38970.000000</td>\n",
              "      <td>18287.000000</td>\n",
              "    </tr>\n",
              "  </tbody>\n",
              "</table>\n",
              "</div>"
            ],
            "text/plain": [
              "            Quantity      UnitPrice     CustomerID\n",
              "count  541909.000000  541909.000000  406829.000000\n",
              "mean        9.552250       4.611114   15287.690570\n",
              "std       218.081158      96.759853    1713.600303\n",
              "min    -80995.000000  -11062.060000   12346.000000\n",
              "25%         1.000000       1.250000   13953.000000\n",
              "50%         3.000000       2.080000   15152.000000\n",
              "75%        10.000000       4.130000   16791.000000\n",
              "max     80995.000000   38970.000000   18287.000000"
            ]
          },
          "execution_count": 175,
          "metadata": {},
          "output_type": "execute_result"
        }
      ],
      "source": [
        "retail.describe()"
      ]
    },
    {
      "cell_type": "code",
      "execution_count": null,
      "metadata": {
        "scrolled": true,
        "id": "1ndhRG2zXhbz"
      },
      "outputs": [],
      "source": [
        "retail['InvoiceDate'] =  pd.to_datetime(retail['InvoiceDate'])"
      ]
    },
    {
      "cell_type": "code",
      "execution_count": null,
      "metadata": {
        "id": "bz44BhU4Xhb0",
        "outputId": "639fc89a-6ab5-4b7b-e629-b3aaf7fa24a9"
      },
      "outputs": [
        {
          "data": {
            "text/html": [
              "<div>\n",
              "<style scoped>\n",
              "    .dataframe tbody tr th:only-of-type {\n",
              "        vertical-align: middle;\n",
              "    }\n",
              "\n",
              "    .dataframe tbody tr th {\n",
              "        vertical-align: top;\n",
              "    }\n",
              "\n",
              "    .dataframe thead th {\n",
              "        text-align: right;\n",
              "    }\n",
              "</style>\n",
              "<table border=\"1\" class=\"dataframe\">\n",
              "  <thead>\n",
              "    <tr style=\"text-align: right;\">\n",
              "      <th></th>\n",
              "      <th>InvoiceNo</th>\n",
              "      <th>StockCode</th>\n",
              "      <th>Description</th>\n",
              "      <th>Quantity</th>\n",
              "      <th>InvoiceDate</th>\n",
              "      <th>UnitPrice</th>\n",
              "      <th>CustomerID</th>\n",
              "      <th>Country</th>\n",
              "    </tr>\n",
              "  </thead>\n",
              "  <tbody>\n",
              "    <tr>\n",
              "      <th>0</th>\n",
              "      <td>536365</td>\n",
              "      <td>85123A</td>\n",
              "      <td>WHITE HANGING HEART T-LIGHT HOLDER</td>\n",
              "      <td>6</td>\n",
              "      <td>2010-12-01 08:26:00</td>\n",
              "      <td>2.55</td>\n",
              "      <td>17850.0</td>\n",
              "      <td>United Kingdom</td>\n",
              "    </tr>\n",
              "    <tr>\n",
              "      <th>1</th>\n",
              "      <td>536365</td>\n",
              "      <td>71053</td>\n",
              "      <td>WHITE METAL LANTERN</td>\n",
              "      <td>6</td>\n",
              "      <td>2010-12-01 08:26:00</td>\n",
              "      <td>3.39</td>\n",
              "      <td>17850.0</td>\n",
              "      <td>United Kingdom</td>\n",
              "    </tr>\n",
              "    <tr>\n",
              "      <th>2</th>\n",
              "      <td>536365</td>\n",
              "      <td>84406B</td>\n",
              "      <td>CREAM CUPID HEARTS COAT HANGER</td>\n",
              "      <td>8</td>\n",
              "      <td>2010-12-01 08:26:00</td>\n",
              "      <td>2.75</td>\n",
              "      <td>17850.0</td>\n",
              "      <td>United Kingdom</td>\n",
              "    </tr>\n",
              "    <tr>\n",
              "      <th>3</th>\n",
              "      <td>536365</td>\n",
              "      <td>84029G</td>\n",
              "      <td>KNITTED UNION FLAG HOT WATER BOTTLE</td>\n",
              "      <td>6</td>\n",
              "      <td>2010-12-01 08:26:00</td>\n",
              "      <td>3.39</td>\n",
              "      <td>17850.0</td>\n",
              "      <td>United Kingdom</td>\n",
              "    </tr>\n",
              "    <tr>\n",
              "      <th>4</th>\n",
              "      <td>536365</td>\n",
              "      <td>84029E</td>\n",
              "      <td>RED WOOLLY HOTTIE WHITE HEART.</td>\n",
              "      <td>6</td>\n",
              "      <td>2010-12-01 08:26:00</td>\n",
              "      <td>3.39</td>\n",
              "      <td>17850.0</td>\n",
              "      <td>United Kingdom</td>\n",
              "    </tr>\n",
              "  </tbody>\n",
              "</table>\n",
              "</div>"
            ],
            "text/plain": [
              "  InvoiceNo StockCode                          Description  Quantity  \\\n",
              "0    536365    85123A   WHITE HANGING HEART T-LIGHT HOLDER         6   \n",
              "1    536365     71053                  WHITE METAL LANTERN         6   \n",
              "2    536365    84406B       CREAM CUPID HEARTS COAT HANGER         8   \n",
              "3    536365    84029G  KNITTED UNION FLAG HOT WATER BOTTLE         6   \n",
              "4    536365    84029E       RED WOOLLY HOTTIE WHITE HEART.         6   \n",
              "\n",
              "          InvoiceDate  UnitPrice  CustomerID         Country  \n",
              "0 2010-12-01 08:26:00       2.55     17850.0  United Kingdom  \n",
              "1 2010-12-01 08:26:00       3.39     17850.0  United Kingdom  \n",
              "2 2010-12-01 08:26:00       2.75     17850.0  United Kingdom  \n",
              "3 2010-12-01 08:26:00       3.39     17850.0  United Kingdom  \n",
              "4 2010-12-01 08:26:00       3.39     17850.0  United Kingdom  "
            ]
          },
          "execution_count": 177,
          "metadata": {},
          "output_type": "execute_result"
        }
      ],
      "source": [
        "retail.head()"
      ]
    },
    {
      "cell_type": "code",
      "execution_count": null,
      "metadata": {
        "id": "SyrDDX9hXhb1",
        "outputId": "93a0d888-ed75-4166-829b-497a2de7aa65"
      },
      "outputs": [
        {
          "name": "stdout",
          "output_type": "stream",
          "text": [
            "<class 'pandas.core.frame.DataFrame'>\n",
            "RangeIndex: 541909 entries, 0 to 541908\n",
            "Data columns (total 8 columns):\n",
            " #   Column       Non-Null Count   Dtype         \n",
            "---  ------       --------------   -----         \n",
            " 0   InvoiceNo    541909 non-null  object        \n",
            " 1   StockCode    541909 non-null  object        \n",
            " 2   Description  540455 non-null  object        \n",
            " 3   Quantity     541909 non-null  int64         \n",
            " 4   InvoiceDate  541909 non-null  datetime64[ns]\n",
            " 5   UnitPrice    541909 non-null  float64       \n",
            " 6   CustomerID   406829 non-null  float64       \n",
            " 7   Country      541909 non-null  object        \n",
            "dtypes: datetime64[ns](1), float64(2), int64(1), object(4)\n",
            "memory usage: 33.1+ MB\n"
          ]
        }
      ],
      "source": [
        "retail.info()"
      ]
    },
    {
      "cell_type": "code",
      "execution_count": null,
      "metadata": {
        "id": "PWqxruzfXhb2",
        "outputId": "b7d95ca3-71bf-4a80-f17c-c40bace88330"
      },
      "outputs": [
        {
          "data": {
            "text/plain": [
              "135080"
            ]
          },
          "execution_count": 179,
          "metadata": {},
          "output_type": "execute_result"
        }
      ],
      "source": [
        "pd.to_numeric(retail['CustomerID'], errors='coerce').isna().sum()"
      ]
    },
    {
      "cell_type": "code",
      "execution_count": null,
      "metadata": {
        "scrolled": true,
        "id": "1ROAL6QdXhb3"
      },
      "outputs": [],
      "source": [
        "# Drop records with no customer id\n",
        "retail.dropna(subset = [\"CustomerID\"], inplace=True)"
      ]
    },
    {
      "cell_type": "code",
      "execution_count": null,
      "metadata": {
        "id": "DH_jeMDxXhb3"
      },
      "outputs": [],
      "source": [
        "retail['CustomerID'] = retail['CustomerID'].astype(int)"
      ]
    },
    {
      "cell_type": "code",
      "execution_count": null,
      "metadata": {
        "scrolled": true,
        "id": "3yI-2bvhXhb4",
        "outputId": "114e3524-0e4b-4b05-d9dc-87e24a2f0c3d"
      },
      "outputs": [
        {
          "name": "stdout",
          "output_type": "stream",
          "text": [
            "<class 'pandas.core.frame.DataFrame'>\n",
            "Int64Index: 406829 entries, 0 to 541908\n",
            "Data columns (total 8 columns):\n",
            " #   Column       Non-Null Count   Dtype         \n",
            "---  ------       --------------   -----         \n",
            " 0   InvoiceNo    406829 non-null  object        \n",
            " 1   StockCode    406829 non-null  object        \n",
            " 2   Description  406829 non-null  object        \n",
            " 3   Quantity     406829 non-null  int64         \n",
            " 4   InvoiceDate  406829 non-null  datetime64[ns]\n",
            " 5   UnitPrice    406829 non-null  float64       \n",
            " 6   CustomerID   406829 non-null  int32         \n",
            " 7   Country      406829 non-null  object        \n",
            "dtypes: datetime64[ns](1), float64(1), int32(1), int64(1), object(4)\n",
            "memory usage: 26.4+ MB\n"
          ]
        }
      ],
      "source": [
        "retail.info()"
      ]
    },
    {
      "cell_type": "markdown",
      "source": [
        "## Perform EDA"
      ],
      "metadata": {
        "id": "Tb7qMiDmvWMH"
      }
    },
    {
      "cell_type": "code",
      "execution_count": null,
      "metadata": {
        "scrolled": false,
        "id": "uc7kj_CyXhb4",
        "outputId": "be37e0c8-5271-441c-ac01-deb23f2ef6ce"
      },
      "outputs": [
        {
          "name": "stdout",
          "output_type": "stream",
          "text": [
            " Invoice Date Range: 2010-12-01 to 2011-12-09\n"
          ]
        }
      ],
      "source": [
        "print(\" Invoice Date Range: \" + str(retail['InvoiceDate'].dt.date.min()) + \" to \" + str(retail['InvoiceDate'].dt.date.max()))"
      ]
    },
    {
      "cell_type": "code",
      "execution_count": null,
      "metadata": {
        "scrolled": false,
        "id": "r2BNzJPpXhb5",
        "outputId": "071b3998-f685-4aee-f6c5-5757fd40c8a6"
      },
      "outputs": [
        {
          "name": "stdout",
          "output_type": "stream",
          "text": [
            "Number of countries:  37\n",
            "                 Country  Transactions\n",
            "0         United Kingdom        361878\n",
            "1                Germany          9495\n",
            "2                 France          8491\n",
            "3                   EIRE          7485\n",
            "4                  Spain          2533\n",
            "5            Netherlands          2371\n",
            "6                Belgium          2069\n",
            "7            Switzerland          1877\n",
            "8               Portugal          1480\n",
            "9              Australia          1259\n",
            "10                Norway          1086\n",
            "11                 Italy           803\n",
            "12       Channel Islands           758\n",
            "13               Finland           695\n",
            "14                Cyprus           622\n",
            "15                Sweden           462\n",
            "16               Austria           401\n",
            "17               Denmark           389\n",
            "18                 Japan           358\n",
            "19                Poland           341\n",
            "20                   USA           291\n",
            "21                Israel           250\n",
            "22           Unspecified           244\n",
            "23             Singapore           229\n",
            "24               Iceland           182\n",
            "25                Canada           151\n",
            "26                Greece           146\n",
            "27                 Malta           127\n",
            "28  United Arab Emirates            68\n",
            "29    European Community            61\n",
            "30                   RSA            58\n",
            "31               Lebanon            45\n",
            "32             Lithuania            35\n",
            "33                Brazil            32\n",
            "34        Czech Republic            30\n",
            "35               Bahrain            17\n",
            "36          Saudi Arabia            10\n"
          ]
        }
      ],
      "source": [
        "# Get Country wise transactions\n",
        "print(\"Number of countries: \", len(retail['Country'].unique()))\n",
        "txns_by_country =  pd.DataFrame(retail['Country'].value_counts())\n",
        "txns_by_country.reset_index(level=0, inplace=True)\n",
        "txns_by_country.columns=['Country','Transactions']\n",
        "print(txns_by_country)"
      ]
    },
    {
      "cell_type": "code",
      "execution_count": null,
      "metadata": {
        "id": "cjuaEHC2Xhb6",
        "outputId": "213e0e7e-c10c-4728-c9df-be9fd8558a30"
      },
      "outputs": [
        {
          "name": "stdout",
          "output_type": "stream",
          "text": [
            "UK transactions:  88.95088599878574 %\n"
          ]
        }
      ],
      "source": [
        "print(\"UK transactions: \", 100*retail[retail['Country']=='United Kingdom']['Country'].count()/len(retail),\"%\")"
      ]
    },
    {
      "cell_type": "code",
      "execution_count": null,
      "metadata": {
        "scrolled": false,
        "id": "ls8lQ9t1Xhb8",
        "outputId": "4c60a893-9c26-4c82-cbb7-5c3fd97aa3fa"
      },
      "outputs": [
        {
          "data": {
            "image/png": "[encoded data removed]",
            "text/plain": [
              "<Figure size 432x288 with 1 Axes>"
            ]
          },
          "metadata": {
            "needs_background": "light"
          },
          "output_type": "display_data"
        }
      ],
      "source": [
        "sns.barplot(x = 'Country', y = 'Transactions', data = txns_by_country)\n",
        "plt.xticks(rotation=90)\n",
        "plt.show()"
      ]
    },
    {
      "cell_type": "code",
      "execution_count": null,
      "metadata": {
        "scrolled": false,
        "id": "fqgpMO6jXhb9",
        "outputId": "6032edef-a3c3-412c-b8ac-767340d2c346"
      },
      "outputs": [
        {
          "name": "stdout",
          "output_type": "stream",
          "text": [
            "Number of unique customers:  4372\n"
          ]
        }
      ],
      "source": [
        "print(\"Number of unique customers: \", len(retail['CustomerID'].unique()))"
      ]
    },
    {
      "cell_type": "code",
      "execution_count": null,
      "metadata": {
        "id": "X6p2UwkrXhb-"
      },
      "outputs": [],
      "source": [
        "retail['Txn_value'] = retail.apply(lambda row: (row.Quantity)*(row.UnitPrice), axis=1)"
      ]
    },
    {
      "cell_type": "code",
      "execution_count": null,
      "metadata": {
        "scrolled": true,
        "id": "YVlJRO85Xhb-",
        "outputId": "4c4b31a3-5b83-40a2-d43a-df9a05333cc8"
      },
      "outputs": [
        {
          "data": {
            "text/html": [
              "<div>\n",
              "<style scoped>\n",
              "    .dataframe tbody tr th:only-of-type {\n",
              "        vertical-align: middle;\n",
              "    }\n",
              "\n",
              "    .dataframe tbody tr th {\n",
              "        vertical-align: top;\n",
              "    }\n",
              "\n",
              "    .dataframe thead th {\n",
              "        text-align: right;\n",
              "    }\n",
              "</style>\n",
              "<table border=\"1\" class=\"dataframe\">\n",
              "  <thead>\n",
              "    <tr style=\"text-align: right;\">\n",
              "      <th></th>\n",
              "      <th>InvoiceNo</th>\n",
              "      <th>StockCode</th>\n",
              "      <th>Description</th>\n",
              "      <th>Quantity</th>\n",
              "      <th>InvoiceDate</th>\n",
              "      <th>UnitPrice</th>\n",
              "      <th>CustomerID</th>\n",
              "      <th>Country</th>\n",
              "      <th>Txn_value</th>\n",
              "    </tr>\n",
              "  </thead>\n",
              "  <tbody>\n",
              "    <tr>\n",
              "      <th>0</th>\n",
              "      <td>536365</td>\n",
              "      <td>85123A</td>\n",
              "      <td>WHITE HANGING HEART T-LIGHT HOLDER</td>\n",
              "      <td>6</td>\n",
              "      <td>2010-12-01 08:26:00</td>\n",
              "      <td>2.55</td>\n",
              "      <td>17850</td>\n",
              "      <td>United Kingdom</td>\n",
              "      <td>15.30</td>\n",
              "    </tr>\n",
              "    <tr>\n",
              "      <th>1</th>\n",
              "      <td>536365</td>\n",
              "      <td>71053</td>\n",
              "      <td>WHITE METAL LANTERN</td>\n",
              "      <td>6</td>\n",
              "      <td>2010-12-01 08:26:00</td>\n",
              "      <td>3.39</td>\n",
              "      <td>17850</td>\n",
              "      <td>United Kingdom</td>\n",
              "      <td>20.34</td>\n",
              "    </tr>\n",
              "    <tr>\n",
              "      <th>2</th>\n",
              "      <td>536365</td>\n",
              "      <td>84406B</td>\n",
              "      <td>CREAM CUPID HEARTS COAT HANGER</td>\n",
              "      <td>8</td>\n",
              "      <td>2010-12-01 08:26:00</td>\n",
              "      <td>2.75</td>\n",
              "      <td>17850</td>\n",
              "      <td>United Kingdom</td>\n",
              "      <td>22.00</td>\n",
              "    </tr>\n",
              "    <tr>\n",
              "      <th>3</th>\n",
              "      <td>536365</td>\n",
              "      <td>84029G</td>\n",
              "      <td>KNITTED UNION FLAG HOT WATER BOTTLE</td>\n",
              "      <td>6</td>\n",
              "      <td>2010-12-01 08:26:00</td>\n",
              "      <td>3.39</td>\n",
              "      <td>17850</td>\n",
              "      <td>United Kingdom</td>\n",
              "      <td>20.34</td>\n",
              "    </tr>\n",
              "    <tr>\n",
              "      <th>4</th>\n",
              "      <td>536365</td>\n",
              "      <td>84029E</td>\n",
              "      <td>RED WOOLLY HOTTIE WHITE HEART.</td>\n",
              "      <td>6</td>\n",
              "      <td>2010-12-01 08:26:00</td>\n",
              "      <td>3.39</td>\n",
              "      <td>17850</td>\n",
              "      <td>United Kingdom</td>\n",
              "      <td>20.34</td>\n",
              "    </tr>\n",
              "  </tbody>\n",
              "</table>\n",
              "</div>"
            ],
            "text/plain": [
              "  InvoiceNo StockCode                          Description  Quantity  \\\n",
              "0    536365    85123A   WHITE HANGING HEART T-LIGHT HOLDER         6   \n",
              "1    536365     71053                  WHITE METAL LANTERN         6   \n",
              "2    536365    84406B       CREAM CUPID HEARTS COAT HANGER         8   \n",
              "3    536365    84029G  KNITTED UNION FLAG HOT WATER BOTTLE         6   \n",
              "4    536365    84029E       RED WOOLLY HOTTIE WHITE HEART.         6   \n",
              "\n",
              "          InvoiceDate  UnitPrice  CustomerID         Country  Txn_value  \n",
              "0 2010-12-01 08:26:00       2.55       17850  United Kingdom      15.30  \n",
              "1 2010-12-01 08:26:00       3.39       17850  United Kingdom      20.34  \n",
              "2 2010-12-01 08:26:00       2.75       17850  United Kingdom      22.00  \n",
              "3 2010-12-01 08:26:00       3.39       17850  United Kingdom      20.34  \n",
              "4 2010-12-01 08:26:00       3.39       17850  United Kingdom      20.34  "
            ]
          },
          "execution_count": 189,
          "metadata": {},
          "output_type": "execute_result"
        }
      ],
      "source": [
        "retail.head()"
      ]
    },
    {
      "cell_type": "code",
      "execution_count": null,
      "metadata": {
        "id": "lZGsTqSnXhb_",
        "outputId": "da6403ef-7d44-456b-b510-40b306154bba"
      },
      "outputs": [
        {
          "data": {
            "image/png": "[encoded data removed]",
            "text/plain": [
              "<Figure size 432x288 with 1 Axes>"
            ]
          },
          "metadata": {
            "needs_background": "light"
          },
          "output_type": "display_data"
        }
      ],
      "source": [
        "sns.distplot(retail['Txn_value'])\n",
        "plt.show()"
      ]
    },
    {
      "cell_type": "markdown",
      "source": [],
      "metadata": {
        "id": "ZxgteolFqdX9"
      }
    },
    {
      "cell_type": "code",
      "execution_count": null,
      "metadata": {
        "scrolled": false,
        "id": "k4vpfSPmXhb_",
        "outputId": "e8871601-368a-4cec-b63b-ddd0659de122"
      },
      "outputs": [
        {
          "name": "stdout",
          "output_type": "stream",
          "text": [
            "             Country  CustomerID  Count\n",
            "4047  United Kingdom       17841   7983\n",
            "81              EIRE       14911   5903\n",
            "1335  United Kingdom       14096   5128\n",
            "428   United Kingdom       12748   4642\n",
            "1702  United Kingdom       14606   2782\n",
            "         CustomerID        Count\n",
            "count   4380.000000  4380.000000\n",
            "mean   15294.421461    92.883333\n",
            "std     1725.199601   232.273829\n",
            "min    12346.000000     1.000000\n",
            "25%    13806.750000    17.000000\n",
            "50%    15296.500000    42.000000\n",
            "75%    16776.250000   101.250000\n",
            "max    18287.000000  7983.000000\n",
            "             Country  CustomerID  TotalTxnValue\n",
            "321      Netherlands       14646      279489.02\n",
            "4237  United Kingdom       18102      256438.49\n",
            "3766  United Kingdom       17450      187482.17\n",
            "81              EIRE       14911      132572.62\n",
            "3          Australia       12415      123725.45\n",
            "         CustomerID  TotalTxnValue\n",
            "count   4380.000000    4380.000000\n",
            "mean   15294.421461    1894.992195\n",
            "std     1725.199601    8211.923382\n",
            "min    12346.000000   -4287.630000\n",
            "25%    13806.750000     293.362500\n",
            "50%    15296.500000     646.800000\n",
            "75%    16776.250000    1610.227500\n",
            "max    18287.000000  279489.020000\n"
          ]
        }
      ],
      "source": [
        "txns_by_customer = retail.groupby(['Country','CustomerID'])['CustomerID'].count().reset_index(\n",
        "  name='Count').sort_values(['Count'], ascending=False)\n",
        "txnValue_by_customer = retail.groupby(['Country','CustomerID'])['Txn_value'].sum().reset_index(\n",
        "  name='TotalTxnValue').sort_values(['TotalTxnValue'], ascending=False)\n",
        "print(txns_by_customer.head())\n",
        "print(txns_by_customer.describe())\n",
        "print(txnValue_by_customer.head())\n",
        "print(txnValue_by_customer.describe())\n"
      ]
    },
    {
      "cell_type": "code",
      "execution_count": null,
      "metadata": {
        "id": "vmCRbvTHXhcA",
        "outputId": "5afd2559-b32e-4407-bde3-7981893c5252"
      },
      "outputs": [
        {
          "data": {
            "text/html": [
              "<div>\n",
              "<style scoped>\n",
              "    .dataframe tbody tr th:only-of-type {\n",
              "        vertical-align: middle;\n",
              "    }\n",
              "\n",
              "    .dataframe tbody tr th {\n",
              "        vertical-align: top;\n",
              "    }\n",
              "\n",
              "    .dataframe thead th {\n",
              "        text-align: right;\n",
              "    }\n",
              "</style>\n",
              "<table border=\"1\" class=\"dataframe\">\n",
              "  <thead>\n",
              "    <tr style=\"text-align: right;\">\n",
              "      <th></th>\n",
              "      <th>Country</th>\n",
              "      <th>CustomerID</th>\n",
              "      <th>Count</th>\n",
              "    </tr>\n",
              "  </thead>\n",
              "  <tbody>\n",
              "    <tr>\n",
              "      <th>4047</th>\n",
              "      <td>United Kingdom</td>\n",
              "      <td>17841</td>\n",
              "      <td>7983</td>\n",
              "    </tr>\n",
              "    <tr>\n",
              "      <th>81</th>\n",
              "      <td>EIRE</td>\n",
              "      <td>14911</td>\n",
              "      <td>5903</td>\n",
              "    </tr>\n",
              "    <tr>\n",
              "      <th>1335</th>\n",
              "      <td>United Kingdom</td>\n",
              "      <td>14096</td>\n",
              "      <td>5128</td>\n",
              "    </tr>\n",
              "    <tr>\n",
              "      <th>428</th>\n",
              "      <td>United Kingdom</td>\n",
              "      <td>12748</td>\n",
              "      <td>4642</td>\n",
              "    </tr>\n",
              "    <tr>\n",
              "      <th>1702</th>\n",
              "      <td>United Kingdom</td>\n",
              "      <td>14606</td>\n",
              "      <td>2782</td>\n",
              "    </tr>\n",
              "    <tr>\n",
              "      <th>...</th>\n",
              "      <td>...</td>\n",
              "      <td>...</td>\n",
              "      <td>...</td>\n",
              "    </tr>\n",
              "    <tr>\n",
              "      <th>2539</th>\n",
              "      <td>United Kingdom</td>\n",
              "      <td>15753</td>\n",
              "      <td>1</td>\n",
              "    </tr>\n",
              "    <tr>\n",
              "      <th>4245</th>\n",
              "      <td>United Kingdom</td>\n",
              "      <td>18113</td>\n",
              "      <td>1</td>\n",
              "    </tr>\n",
              "    <tr>\n",
              "      <th>4291</th>\n",
              "      <td>United Kingdom</td>\n",
              "      <td>18174</td>\n",
              "      <td>1</td>\n",
              "    </tr>\n",
              "    <tr>\n",
              "      <th>4265</th>\n",
              "      <td>United Kingdom</td>\n",
              "      <td>18141</td>\n",
              "      <td>1</td>\n",
              "    </tr>\n",
              "    <tr>\n",
              "      <th>1567</th>\n",
              "      <td>United Kingdom</td>\n",
              "      <td>14424</td>\n",
              "      <td>1</td>\n",
              "    </tr>\n",
              "  </tbody>\n",
              "</table>\n",
              "<p>4380 rows × 3 columns</p>\n",
              "</div>"
            ],
            "text/plain": [
              "             Country  CustomerID  Count\n",
              "4047  United Kingdom       17841   7983\n",
              "81              EIRE       14911   5903\n",
              "1335  United Kingdom       14096   5128\n",
              "428   United Kingdom       12748   4642\n",
              "1702  United Kingdom       14606   2782\n",
              "...              ...         ...    ...\n",
              "2539  United Kingdom       15753      1\n",
              "4245  United Kingdom       18113      1\n",
              "4291  United Kingdom       18174      1\n",
              "4265  United Kingdom       18141      1\n",
              "1567  United Kingdom       14424      1\n",
              "\n",
              "[4380 rows x 3 columns]"
            ]
          },
          "execution_count": 191,
          "metadata": {},
          "output_type": "execute_result"
        }
      ],
      "source": [
        "# Get number of transactions by customer\n",
        "txns_by_customer"
      ]
    },
    {
      "cell_type": "code",
      "execution_count": null,
      "metadata": {
        "scrolled": true,
        "id": "iY3Rn0VNXhcB",
        "outputId": "c01e08d8-c999-4bd1-a341-deece9403aaa"
      },
      "outputs": [
        {
          "data": {
            "image/png": "[encoded data removed]",
            "text/plain": [
              "<Figure size 432x288 with 1 Axes>"
            ]
          },
          "metadata": {
            "needs_background": "light"
          },
          "output_type": "display_data"
        }
      ],
      "source": [
        "txns_by_customer = txns_by_customer.loc[txns_by_customer['Count'].values <= 500]\n",
        "\n",
        "sns.distplot(txns_by_customer['Count'])\n",
        "plt.show()"
      ]
    },
    {
      "cell_type": "code",
      "execution_count": null,
      "metadata": {
        "id": "1dAiGW-iXhcB",
        "outputId": "be6fe0f3-0a2c-42c1-b423-d80bc7632be3"
      },
      "outputs": [
        {
          "data": {
            "image/png": "[encoded data removed]",
            "text/plain": [
              "<Figure size 432x288 with 1 Axes>"
            ]
          },
          "metadata": {
            "needs_background": "light"
          },
          "output_type": "display_data"
        }
      ],
      "source": [
        "txnValue_by_customer = txnValue_by_customer.loc[txnValue_by_customer['TotalTxnValue'].values <= 10000]\n",
        "\n",
        "sns.distplot(txnValue_by_customer['TotalTxnValue'])\n",
        "plt.show()"
      ]
    },
    {
      "cell_type": "code",
      "execution_count": null,
      "metadata": {
        "id": "O3IUVzw4XhcC",
        "outputId": "1c23e189-5857-4937-85ea-ed09ba195851"
      },
      "outputs": [
        {
          "data": {
            "image/png": "[encoded data removed]",
            "text/plain": [
              "<Figure size 432x288 with 1 Axes>"
            ]
          },
          "metadata": {
            "needs_background": "light"
          },
          "output_type": "display_data"
        }
      ],
      "source": [
        "sns.boxplot(x='Country',y='Count',data=txns_by_customer, sym=\"\")\n",
        "plt.xticks(rotation=90)\n",
        "plt.show()"
      ]
    },
    {
      "cell_type": "code",
      "execution_count": null,
      "metadata": {
        "id": "Rv4PUCAaXhcC",
        "outputId": "d6de3276-0b1b-40d1-ec9d-0ee1c036d98b"
      },
      "outputs": [
        {
          "data": {
            "image/png": "[encoded data removed]",
            "text/plain": [
              "<Figure size 432x288 with 1 Axes>"
            ]
          },
          "metadata": {
            "needs_background": "light"
          },
          "output_type": "display_data"
        }
      ],
      "source": [
        "sns.boxplot(x='Country',y='TotalTxnValue',data=txnValue_by_customer,sym=\"\")\n",
        "plt.xticks(rotation=90)\n",
        "plt.show()"
      ]
    },
    {
      "cell_type": "code",
      "execution_count": null,
      "metadata": {
        "id": "nIh9PfrGXhcD",
        "outputId": "0daf8ff5-8b81-4b45-efc1-b4b0dbf45981"
      },
      "outputs": [
        {
          "data": {
            "text/html": [
              "<div>\n",
              "<style scoped>\n",
              "    .dataframe tbody tr th:only-of-type {\n",
              "        vertical-align: middle;\n",
              "    }\n",
              "\n",
              "    .dataframe tbody tr th {\n",
              "        vertical-align: top;\n",
              "    }\n",
              "\n",
              "    .dataframe thead th {\n",
              "        text-align: right;\n",
              "    }\n",
              "</style>\n",
              "<table border=\"1\" class=\"dataframe\">\n",
              "  <thead>\n",
              "    <tr style=\"text-align: right;\">\n",
              "      <th></th>\n",
              "      <th>Country</th>\n",
              "      <th>CountryTotal</th>\n",
              "    </tr>\n",
              "  </thead>\n",
              "  <tbody>\n",
              "    <tr>\n",
              "      <th>35</th>\n",
              "      <td>United Kingdom</td>\n",
              "      <td>4470725.744</td>\n",
              "    </tr>\n",
              "    <tr>\n",
              "      <th>14</th>\n",
              "      <td>Germany</td>\n",
              "      <td>176228.210</td>\n",
              "    </tr>\n",
              "    <tr>\n",
              "      <th>13</th>\n",
              "      <td>France</td>\n",
              "      <td>134365.360</td>\n",
              "    </tr>\n",
              "    <tr>\n",
              "      <th>32</th>\n",
              "      <td>Switzerland</td>\n",
              "      <td>44682.470</td>\n",
              "    </tr>\n",
              "    <tr>\n",
              "      <th>3</th>\n",
              "      <td>Belgium</td>\n",
              "      <td>40910.960</td>\n",
              "    </tr>\n",
              "    <tr>\n",
              "      <th>30</th>\n",
              "      <td>Spain</td>\n",
              "      <td>29474.580</td>\n",
              "    </tr>\n",
              "    <tr>\n",
              "      <th>26</th>\n",
              "      <td>Portugal</td>\n",
              "      <td>29059.810</td>\n",
              "    </tr>\n",
              "    <tr>\n",
              "      <th>12</th>\n",
              "      <td>Finland</td>\n",
              "      <td>22326.740</td>\n",
              "    </tr>\n",
              "    <tr>\n",
              "      <th>24</th>\n",
              "      <td>Norway</td>\n",
              "      <td>21787.590</td>\n",
              "    </tr>\n",
              "    <tr>\n",
              "      <th>6</th>\n",
              "      <td>Channel Islands</td>\n",
              "      <td>20086.290</td>\n",
              "    </tr>\n",
              "    <tr>\n",
              "      <th>9</th>\n",
              "      <td>Denmark</td>\n",
              "      <td>18768.140</td>\n",
              "    </tr>\n",
              "    <tr>\n",
              "      <th>18</th>\n",
              "      <td>Italy</td>\n",
              "      <td>16890.510</td>\n",
              "    </tr>\n",
              "    <tr>\n",
              "      <th>19</th>\n",
              "      <td>Japan</td>\n",
              "      <td>14316.610</td>\n",
              "    </tr>\n",
              "    <tr>\n",
              "      <th>0</th>\n",
              "      <td>Australia</td>\n",
              "      <td>13351.820</td>\n",
              "    </tr>\n",
              "    <tr>\n",
              "      <th>7</th>\n",
              "      <td>Cyprus</td>\n",
              "      <td>12946.290</td>\n",
              "    </tr>\n",
              "    <tr>\n",
              "      <th>1</th>\n",
              "      <td>Austria</td>\n",
              "      <td>10154.320</td>\n",
              "    </tr>\n",
              "    <tr>\n",
              "      <th>29</th>\n",
              "      <td>Singapore</td>\n",
              "      <td>9120.390</td>\n",
              "    </tr>\n",
              "    <tr>\n",
              "      <th>25</th>\n",
              "      <td>Poland</td>\n",
              "      <td>7213.140</td>\n",
              "    </tr>\n",
              "    <tr>\n",
              "      <th>17</th>\n",
              "      <td>Israel</td>\n",
              "      <td>6994.250</td>\n",
              "    </tr>\n",
              "    <tr>\n",
              "      <th>31</th>\n",
              "      <td>Sweden</td>\n",
              "      <td>6295.090</td>\n",
              "    </tr>\n",
              "    <tr>\n",
              "      <th>23</th>\n",
              "      <td>Netherlands</td>\n",
              "      <td>5172.520</td>\n",
              "    </tr>\n",
              "    <tr>\n",
              "      <th>15</th>\n",
              "      <td>Greece</td>\n",
              "      <td>4710.520</td>\n",
              "    </tr>\n",
              "    <tr>\n",
              "      <th>10</th>\n",
              "      <td>EIRE</td>\n",
              "      <td>4328.460</td>\n",
              "    </tr>\n",
              "    <tr>\n",
              "      <th>16</th>\n",
              "      <td>Iceland</td>\n",
              "      <td>4310.000</td>\n",
              "    </tr>\n",
              "    <tr>\n",
              "      <th>5</th>\n",
              "      <td>Canada</td>\n",
              "      <td>3666.380</td>\n",
              "    </tr>\n",
              "    <tr>\n",
              "      <th>36</th>\n",
              "      <td>Unspecified</td>\n",
              "      <td>2667.070</td>\n",
              "    </tr>\n",
              "    <tr>\n",
              "      <th>22</th>\n",
              "      <td>Malta</td>\n",
              "      <td>2505.470</td>\n",
              "    </tr>\n",
              "    <tr>\n",
              "      <th>34</th>\n",
              "      <td>United Arab Emirates</td>\n",
              "      <td>1902.280</td>\n",
              "    </tr>\n",
              "    <tr>\n",
              "      <th>33</th>\n",
              "      <td>USA</td>\n",
              "      <td>1730.920</td>\n",
              "    </tr>\n",
              "    <tr>\n",
              "      <th>20</th>\n",
              "      <td>Lebanon</td>\n",
              "      <td>1693.880</td>\n",
              "    </tr>\n",
              "    <tr>\n",
              "      <th>21</th>\n",
              "      <td>Lithuania</td>\n",
              "      <td>1661.060</td>\n",
              "    </tr>\n",
              "    <tr>\n",
              "      <th>11</th>\n",
              "      <td>European Community</td>\n",
              "      <td>1291.750</td>\n",
              "    </tr>\n",
              "    <tr>\n",
              "      <th>4</th>\n",
              "      <td>Brazil</td>\n",
              "      <td>1143.600</td>\n",
              "    </tr>\n",
              "    <tr>\n",
              "      <th>27</th>\n",
              "      <td>RSA</td>\n",
              "      <td>1002.310</td>\n",
              "    </tr>\n",
              "    <tr>\n",
              "      <th>8</th>\n",
              "      <td>Czech Republic</td>\n",
              "      <td>707.720</td>\n",
              "    </tr>\n",
              "    <tr>\n",
              "      <th>2</th>\n",
              "      <td>Bahrain</td>\n",
              "      <td>548.400</td>\n",
              "    </tr>\n",
              "    <tr>\n",
              "      <th>28</th>\n",
              "      <td>Saudi Arabia</td>\n",
              "      <td>131.170</td>\n",
              "    </tr>\n",
              "  </tbody>\n",
              "</table>\n",
              "</div>"
            ],
            "text/plain": [
              "                 Country  CountryTotal\n",
              "35        United Kingdom   4470725.744\n",
              "14               Germany    176228.210\n",
              "13                France    134365.360\n",
              "32           Switzerland     44682.470\n",
              "3                Belgium     40910.960\n",
              "30                 Spain     29474.580\n",
              "26              Portugal     29059.810\n",
              "12               Finland     22326.740\n",
              "24                Norway     21787.590\n",
              "6        Channel Islands     20086.290\n",
              "9                Denmark     18768.140\n",
              "18                 Italy     16890.510\n",
              "19                 Japan     14316.610\n",
              "0              Australia     13351.820\n",
              "7                 Cyprus     12946.290\n",
              "1                Austria     10154.320\n",
              "29             Singapore      9120.390\n",
              "25                Poland      7213.140\n",
              "17                Israel      6994.250\n",
              "31                Sweden      6295.090\n",
              "23           Netherlands      5172.520\n",
              "15                Greece      4710.520\n",
              "10                  EIRE      4328.460\n",
              "16               Iceland      4310.000\n",
              "5                 Canada      3666.380\n",
              "36           Unspecified      2667.070\n",
              "22                 Malta      2505.470\n",
              "34  United Arab Emirates      1902.280\n",
              "33                   USA      1730.920\n",
              "20               Lebanon      1693.880\n",
              "21             Lithuania      1661.060\n",
              "11    European Community      1291.750\n",
              "4                 Brazil      1143.600\n",
              "27                   RSA      1002.310\n",
              "8         Czech Republic       707.720\n",
              "2                Bahrain       548.400\n",
              "28          Saudi Arabia       131.170"
            ]
          },
          "execution_count": 196,
          "metadata": {},
          "output_type": "execute_result"
        }
      ],
      "source": [
        "# Get transaction value by ccountry\n",
        "txnValue_by_customer.groupby(['Country'])['TotalTxnValue'].sum().reset_index(\n",
        "  name='CountryTotal').sort_values(['CountryTotal'], ascending=False)"
      ]
    },
    {
      "cell_type": "code",
      "execution_count": null,
      "metadata": {
        "scrolled": true,
        "id": "p0Z5F6G1XhcD",
        "outputId": "81c48702-4671-4007-c4ec-7a8b2c108995"
      },
      "outputs": [
        {
          "data": {
            "text/plain": [
              "CustomerID\n",
              "14911    226\n",
              "17841    136\n",
              "17511    113\n",
              "15311    112\n",
              "12607    101\n",
              "        ... \n",
              "15091      1\n",
              "15079      1\n",
              "15048      1\n",
              "15046      1\n",
              "12346      1\n",
              "Name: CustomerID, Length: 1589, dtype: int64"
            ]
          },
          "execution_count": 197,
          "metadata": {},
          "output_type": "execute_result"
        }
      ],
      "source": [
        "cancelled = retail.loc[retail['InvoiceNo'].str.startswith('C')]\n",
        "\n",
        "cancelled.groupby(['CustomerID'])['CustomerID'].count().sort_values(ascending=False)"
      ]
    },
    {
      "cell_type": "code",
      "execution_count": null,
      "metadata": {
        "id": "nTgVlkK9XhcD",
        "outputId": "6129eca0-c2ef-4a58-a8c9-9217479f19b3"
      },
      "outputs": [
        {
          "data": {
            "text/plain": [
              "CustomerID\n",
              "16446   -168469.60\n",
              "12346    -77183.60\n",
              "15098    -39267.00\n",
              "16029    -30032.23\n",
              "15749    -22998.40\n",
              "           ...    \n",
              "17164        -0.95\n",
              "12421        -0.77\n",
              "16566        -0.65\n",
              "17334        -0.42\n",
              "15903        -0.42\n",
              "Name: Txn_value, Length: 1589, dtype: float64"
            ]
          },
          "execution_count": 198,
          "metadata": {},
          "output_type": "execute_result"
        }
      ],
      "source": [
        "cancelled.groupby(['CustomerID'])['Txn_value'].sum().sort_values(ascending=True)"
      ]
    },
    {
      "cell_type": "code",
      "execution_count": null,
      "metadata": {
        "id": "5JAe2Qk_XhcE",
        "outputId": "ac2c95a3-0db0-4133-99ea-e0e8f2a043c0"
      },
      "outputs": [
        {
          "name": "stdout",
          "output_type": "stream",
          "text": [
            "Country\n",
            "United Kingdom        7533\n",
            "Germany                453\n",
            "EIRE                   247\n",
            "France                 149\n",
            "USA                    112\n",
            "Australia               74\n",
            "Spain                   48\n",
            "Italy                   45\n",
            "Belgium                 38\n",
            "Japan                   37\n",
            "Switzerland             35\n",
            "Portugal                18\n",
            "Malta                   15\n",
            "Norway                  14\n",
            "Sweden                  11\n",
            "Poland                  11\n",
            "Channel Islands         10\n",
            "Finland                 10\n",
            "Denmark                  9\n",
            "Cyprus                   8\n",
            "Netherlands              8\n",
            "Singapore                7\n",
            "Czech Republic           5\n",
            "Austria                  3\n",
            "Israel                   2\n",
            "European Community       1\n",
            "Greece                   1\n",
            "Saudi Arabia             1\n",
            "Name: Country, dtype: int64\n",
            "Country\n",
            "United Kingdom       -540518.16\n",
            "EIRE                  -15260.68\n",
            "France                -12311.21\n",
            "Singapore             -12158.90\n",
            "Germany                -7168.93\n",
            "Spain                  -6802.53\n",
            "Portugal               -4380.08\n",
            "Japan                  -2075.75\n",
            "USA                    -1849.47\n",
            "Sweden                 -1782.42\n",
            "Australia              -1444.04\n",
            "Norway                 -1001.98\n",
            "Netherlands             -784.80\n",
            "Switzerland             -704.55\n",
            "Cyprus                  -644.09\n",
            "Italy                   -592.73\n",
            "Channel Islands         -364.15\n",
            "Belgium                 -285.38\n",
            "Israel                  -227.44\n",
            "Malta                   -220.12\n",
            "Finland                 -219.34\n",
            "Denmark                 -187.20\n",
            "Poland                  -121.51\n",
            "Czech Republic          -119.02\n",
            "Greece                   -50.00\n",
            "Austria                  -44.36\n",
            "Saudi Arabia             -14.75\n",
            "European Community        -8.50\n",
            "Name: Txn_value, dtype: float64\n"
          ]
        }
      ],
      "source": [
        "print(cancelled.groupby(['Country'])['Country'].count().sort_values(ascending=False))\n",
        "print(cancelled.groupby(['Country'])['Txn_value'].sum().sort_values(ascending=True))"
      ]
    },
    {
      "cell_type": "code",
      "execution_count": null,
      "metadata": {
        "id": "74H_j52kXhcF",
        "outputId": "cad2d1ec-3ac2-41f0-eeda-ba150949012c"
      },
      "outputs": [
        {
          "data": {
            "text/html": [
              "<div>\n",
              "<style scoped>\n",
              "    .dataframe tbody tr th:only-of-type {\n",
              "        vertical-align: middle;\n",
              "    }\n",
              "\n",
              "    .dataframe tbody tr th {\n",
              "        vertical-align: top;\n",
              "    }\n",
              "\n",
              "    .dataframe thead th {\n",
              "        text-align: right;\n",
              "    }\n",
              "</style>\n",
              "<table border=\"1\" class=\"dataframe\">\n",
              "  <thead>\n",
              "    <tr style=\"text-align: right;\">\n",
              "      <th></th>\n",
              "      <th>Quantity</th>\n",
              "      <th>UnitPrice</th>\n",
              "      <th>CustomerID</th>\n",
              "      <th>Txn_value</th>\n",
              "    </tr>\n",
              "  </thead>\n",
              "  <tbody>\n",
              "    <tr>\n",
              "      <th>count</th>\n",
              "      <td>8905.000000</td>\n",
              "      <td>8905.000000</td>\n",
              "      <td>8905.000000</td>\n",
              "      <td>8905.000000</td>\n",
              "    </tr>\n",
              "    <tr>\n",
              "      <th>mean</th>\n",
              "      <td>-30.859966</td>\n",
              "      <td>18.845519</td>\n",
              "      <td>14991.667266</td>\n",
              "      <td>-68.651554</td>\n",
              "    </tr>\n",
              "    <tr>\n",
              "      <th>std</th>\n",
              "      <td>1170.154939</td>\n",
              "      <td>444.366043</td>\n",
              "      <td>1706.772357</td>\n",
              "      <td>2019.177682</td>\n",
              "    </tr>\n",
              "    <tr>\n",
              "      <th>min</th>\n",
              "      <td>-80995.000000</td>\n",
              "      <td>0.010000</td>\n",
              "      <td>12346.000000</td>\n",
              "      <td>-168469.600000</td>\n",
              "    </tr>\n",
              "    <tr>\n",
              "      <th>25%</th>\n",
              "      <td>-6.000000</td>\n",
              "      <td>1.450000</td>\n",
              "      <td>13510.000000</td>\n",
              "      <td>-17.000000</td>\n",
              "    </tr>\n",
              "    <tr>\n",
              "      <th>50%</th>\n",
              "      <td>-2.000000</td>\n",
              "      <td>2.950000</td>\n",
              "      <td>14895.000000</td>\n",
              "      <td>-8.500000</td>\n",
              "    </tr>\n",
              "    <tr>\n",
              "      <th>75%</th>\n",
              "      <td>-1.000000</td>\n",
              "      <td>4.950000</td>\n",
              "      <td>16393.000000</td>\n",
              "      <td>-3.300000</td>\n",
              "    </tr>\n",
              "    <tr>\n",
              "      <th>max</th>\n",
              "      <td>-1.000000</td>\n",
              "      <td>38970.000000</td>\n",
              "      <td>18282.000000</td>\n",
              "      <td>-0.120000</td>\n",
              "    </tr>\n",
              "  </tbody>\n",
              "</table>\n",
              "</div>"
            ],
            "text/plain": [
              "           Quantity     UnitPrice    CustomerID      Txn_value\n",
              "count   8905.000000   8905.000000   8905.000000    8905.000000\n",
              "mean     -30.859966     18.845519  14991.667266     -68.651554\n",
              "std     1170.154939    444.366043   1706.772357    2019.177682\n",
              "min   -80995.000000      0.010000  12346.000000 -168469.600000\n",
              "25%       -6.000000      1.450000  13510.000000     -17.000000\n",
              "50%       -2.000000      2.950000  14895.000000      -8.500000\n",
              "75%       -1.000000      4.950000  16393.000000      -3.300000\n",
              "max       -1.000000  38970.000000  18282.000000      -0.120000"
            ]
          },
          "execution_count": 199,
          "metadata": {},
          "output_type": "execute_result"
        }
      ],
      "source": [
        "cancelled.describe()"
      ]
    },
    {
      "cell_type": "code",
      "execution_count": null,
      "metadata": {
        "id": "mlOyXPJYXhcG",
        "outputId": "b0a5ff32-fa8a-48fa-b7dc-bb5f5d8698d7"
      },
      "outputs": [
        {
          "data": {
            "text/plain": [
              "InvoiceNo      226\n",
              "StockCode      226\n",
              "Description    226\n",
              "Quantity       226\n",
              "InvoiceDate    226\n",
              "UnitPrice      226\n",
              "Country        226\n",
              "Txn_value      226\n",
              "dtype: int64"
            ]
          },
          "execution_count": 269,
          "metadata": {},
          "output_type": "execute_result"
        }
      ],
      "source": [
        "cancelled.groupby('CustomerID').count().max()"
      ]
    },
    {
      "cell_type": "code",
      "execution_count": null,
      "metadata": {
        "scrolled": true,
        "id": "VIVbZu5MXhcI",
        "outputId": "46afdc80-a3fd-46b8-875a-563cad5e46a9"
      },
      "outputs": [
        {
          "data": {
            "text/plain": [
              "1589"
            ]
          },
          "execution_count": 202,
          "metadata": {},
          "output_type": "execute_result"
        }
      ],
      "source": [
        "len(cancelled['CustomerID'].unique())"
      ]
    },
    {
      "cell_type": "code",
      "execution_count": null,
      "metadata": {
        "scrolled": true,
        "id": "gswQa9fSXhcJ"
      },
      "outputs": [],
      "source": [
        "cust_who_cancelled = list(cancelled.nsmallest(20,'Txn_value')['CustomerID'].unique())"
      ]
    },
    {
      "cell_type": "code",
      "execution_count": null,
      "metadata": {
        "id": "rxprodXpXhcJ",
        "outputId": "e813b35b-1e30-444f-9b64-9e5607747914"
      },
      "outputs": [
        {
          "data": {
            "text/plain": [
              "[16446,\n",
              " 12346,\n",
              " 15098,\n",
              " 12536,\n",
              " 16029,\n",
              " 15749,\n",
              " 17448,\n",
              " 12744,\n",
              " 17450,\n",
              " 15502,\n",
              " 18102,\n",
              " 12931]"
            ]
          },
          "execution_count": 222,
          "metadata": {},
          "output_type": "execute_result"
        }
      ],
      "source": [
        "cust_who_cancelled"
      ]
    },
    {
      "cell_type": "code",
      "execution_count": null,
      "metadata": {
        "scrolled": false,
        "id": "sYkLmzn9XhcK",
        "outputId": "6a39222b-a42f-46f6-d6eb-2ec2e2a54f89"
      },
      "outputs": [
        {
          "data": {
            "text/html": [
              "<div>\n",
              "<style scoped>\n",
              "    .dataframe tbody tr th:only-of-type {\n",
              "        vertical-align: middle;\n",
              "    }\n",
              "\n",
              "    .dataframe tbody tr th {\n",
              "        vertical-align: top;\n",
              "    }\n",
              "\n",
              "    .dataframe thead th {\n",
              "        text-align: right;\n",
              "    }\n",
              "</style>\n",
              "<table border=\"1\" class=\"dataframe\">\n",
              "  <thead>\n",
              "    <tr style=\"text-align: right;\">\n",
              "      <th></th>\n",
              "      <th>InvoiceNo</th>\n",
              "      <th>StockCode</th>\n",
              "      <th>Description</th>\n",
              "      <th>Quantity</th>\n",
              "      <th>InvoiceDate</th>\n",
              "      <th>UnitPrice</th>\n",
              "      <th>CustomerID</th>\n",
              "      <th>Country</th>\n",
              "      <th>Txn_value</th>\n",
              "    </tr>\n",
              "  </thead>\n",
              "  <tbody>\n",
              "    <tr>\n",
              "      <th>175</th>\n",
              "      <td>536386</td>\n",
              "      <td>84880</td>\n",
              "      <td>WHITE WIRE EGG HOLDER</td>\n",
              "      <td>36</td>\n",
              "      <td>2010-12-01 09:57:00</td>\n",
              "      <td>4.95</td>\n",
              "      <td>16029</td>\n",
              "      <td>United Kingdom</td>\n",
              "      <td>178.20</td>\n",
              "    </tr>\n",
              "    <tr>\n",
              "      <th>176</th>\n",
              "      <td>536386</td>\n",
              "      <td>85099C</td>\n",
              "      <td>JUMBO  BAG BAROQUE BLACK WHITE</td>\n",
              "      <td>100</td>\n",
              "      <td>2010-12-01 09:57:00</td>\n",
              "      <td>1.65</td>\n",
              "      <td>16029</td>\n",
              "      <td>United Kingdom</td>\n",
              "      <td>165.00</td>\n",
              "    </tr>\n",
              "    <tr>\n",
              "      <th>177</th>\n",
              "      <td>536386</td>\n",
              "      <td>85099B</td>\n",
              "      <td>JUMBO BAG RED RETROSPOT</td>\n",
              "      <td>100</td>\n",
              "      <td>2010-12-01 09:57:00</td>\n",
              "      <td>1.65</td>\n",
              "      <td>16029</td>\n",
              "      <td>United Kingdom</td>\n",
              "      <td>165.00</td>\n",
              "    </tr>\n",
              "    <tr>\n",
              "      <th>178</th>\n",
              "      <td>536387</td>\n",
              "      <td>79321</td>\n",
              "      <td>CHILLI LIGHTS</td>\n",
              "      <td>192</td>\n",
              "      <td>2010-12-01 09:58:00</td>\n",
              "      <td>3.82</td>\n",
              "      <td>16029</td>\n",
              "      <td>United Kingdom</td>\n",
              "      <td>733.44</td>\n",
              "    </tr>\n",
              "    <tr>\n",
              "      <th>179</th>\n",
              "      <td>536387</td>\n",
              "      <td>22780</td>\n",
              "      <td>LIGHT GARLAND BUTTERFILES PINK</td>\n",
              "      <td>192</td>\n",
              "      <td>2010-12-01 09:58:00</td>\n",
              "      <td>3.37</td>\n",
              "      <td>16029</td>\n",
              "      <td>United Kingdom</td>\n",
              "      <td>647.04</td>\n",
              "    </tr>\n",
              "    <tr>\n",
              "      <th>...</th>\n",
              "      <td>...</td>\n",
              "      <td>...</td>\n",
              "      <td>...</td>\n",
              "      <td>...</td>\n",
              "      <td>...</td>\n",
              "      <td>...</td>\n",
              "      <td>...</td>\n",
              "      <td>...</td>\n",
              "      <td>...</td>\n",
              "    </tr>\n",
              "    <tr>\n",
              "      <th>540068</th>\n",
              "      <td>581457</td>\n",
              "      <td>23526</td>\n",
              "      <td>WALL ART DOG LICENCE</td>\n",
              "      <td>126</td>\n",
              "      <td>2011-12-08 18:43:00</td>\n",
              "      <td>3.90</td>\n",
              "      <td>18102</td>\n",
              "      <td>United Kingdom</td>\n",
              "      <td>491.40</td>\n",
              "    </tr>\n",
              "    <tr>\n",
              "      <th>540069</th>\n",
              "      <td>581457</td>\n",
              "      <td>23401</td>\n",
              "      <td>RUSTIC MIRROR WITH LACE HEART</td>\n",
              "      <td>126</td>\n",
              "      <td>2011-12-08 18:43:00</td>\n",
              "      <td>4.15</td>\n",
              "      <td>18102</td>\n",
              "      <td>United Kingdom</td>\n",
              "      <td>522.90</td>\n",
              "    </tr>\n",
              "    <tr>\n",
              "      <th>540421</th>\n",
              "      <td>581483</td>\n",
              "      <td>23843</td>\n",
              "      <td>PAPER CRAFT , LITTLE BIRDIE</td>\n",
              "      <td>80995</td>\n",
              "      <td>2011-12-09 09:15:00</td>\n",
              "      <td>2.08</td>\n",
              "      <td>16446</td>\n",
              "      <td>United Kingdom</td>\n",
              "      <td>168469.60</td>\n",
              "    </tr>\n",
              "    <tr>\n",
              "      <th>540422</th>\n",
              "      <td>C581484</td>\n",
              "      <td>23843</td>\n",
              "      <td>PAPER CRAFT , LITTLE BIRDIE</td>\n",
              "      <td>-80995</td>\n",
              "      <td>2011-12-09 09:27:00</td>\n",
              "      <td>2.08</td>\n",
              "      <td>16446</td>\n",
              "      <td>United Kingdom</td>\n",
              "      <td>-168469.60</td>\n",
              "    </tr>\n",
              "    <tr>\n",
              "      <th>541702</th>\n",
              "      <td>581566</td>\n",
              "      <td>23404</td>\n",
              "      <td>HOME SWEET HOME BLACKBOARD</td>\n",
              "      <td>144</td>\n",
              "      <td>2011-12-09 11:50:00</td>\n",
              "      <td>3.26</td>\n",
              "      <td>18102</td>\n",
              "      <td>United Kingdom</td>\n",
              "      <td>469.44</td>\n",
              "    </tr>\n",
              "  </tbody>\n",
              "</table>\n",
              "<p>1941 rows × 9 columns</p>\n",
              "</div>"
            ],
            "text/plain": [
              "       InvoiceNo StockCode                     Description  Quantity  \\\n",
              "175       536386     84880           WHITE WIRE EGG HOLDER        36   \n",
              "176       536386    85099C  JUMBO  BAG BAROQUE BLACK WHITE       100   \n",
              "177       536386    85099B         JUMBO BAG RED RETROSPOT       100   \n",
              "178       536387     79321                   CHILLI LIGHTS       192   \n",
              "179       536387     22780  LIGHT GARLAND BUTTERFILES PINK       192   \n",
              "...          ...       ...                             ...       ...   \n",
              "540068    581457     23526           WALL ART DOG LICENCE        126   \n",
              "540069    581457     23401   RUSTIC MIRROR WITH LACE HEART       126   \n",
              "540421    581483     23843     PAPER CRAFT , LITTLE BIRDIE     80995   \n",
              "540422   C581484     23843     PAPER CRAFT , LITTLE BIRDIE    -80995   \n",
              "541702    581566     23404      HOME SWEET HOME BLACKBOARD       144   \n",
              "\n",
              "               InvoiceDate  UnitPrice  CustomerID         Country  Txn_value  \n",
              "175    2010-12-01 09:57:00       4.95       16029  United Kingdom     178.20  \n",
              "176    2010-12-01 09:57:00       1.65       16029  United Kingdom     165.00  \n",
              "177    2010-12-01 09:57:00       1.65       16029  United Kingdom     165.00  \n",
              "178    2010-12-01 09:58:00       3.82       16029  United Kingdom     733.44  \n",
              "179    2010-12-01 09:58:00       3.37       16029  United Kingdom     647.04  \n",
              "...                    ...        ...         ...             ...        ...  \n",
              "540068 2011-12-08 18:43:00       3.90       18102  United Kingdom     491.40  \n",
              "540069 2011-12-08 18:43:00       4.15       18102  United Kingdom     522.90  \n",
              "540421 2011-12-09 09:15:00       2.08       16446  United Kingdom  168469.60  \n",
              "540422 2011-12-09 09:27:00       2.08       16446  United Kingdom -168469.60  \n",
              "541702 2011-12-09 11:50:00       3.26       18102  United Kingdom     469.44  \n",
              "\n",
              "[1941 rows x 9 columns]"
            ]
          },
          "execution_count": 246,
          "metadata": {},
          "output_type": "execute_result"
        }
      ],
      "source": [
        "txns  = retail[retail['CustomerID'].isin(cust_who_cancelled)]\n",
        "txns"
      ]
    },
    {
      "cell_type": "code",
      "execution_count": null,
      "metadata": {
        "id": "YZGAjwptXhcK"
      },
      "outputs": [],
      "source": []
    }
  ],
  "metadata": {
    "kernelspec": {
      "display_name": "Python 3",
      "language": "python",
      "name": "python3"
    },
    "language_info": {
      "codemirror_mode": {
        "name": "ipython",
        "version": 3
      },
      "file_extension": ".py",
      "mimetype": "text/x-python",
      "name": "python",
      "nbconvert_exporter": "python",
      "pygments_lexer": "ipython3",
      "version": "3.8.3"
    },
    "colab": {
      "provenance": []
    }
  },
  "nbformat": 4,
  "nbformat_minor": 0
}