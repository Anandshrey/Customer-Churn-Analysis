{
 "cells": [
  {
   "cell_type": "code",
   "execution_count": 1,
   "id": "1da7120f",
   "metadata": {},
   "outputs": [],
   "source": [
    "import pandas as pd\n",
    "import csv\n",
    "import matplotlib.pyplot as plt\n",
    "import seaborn as sns"
   ]
  },
  {
   "cell_type": "code",
   "execution_count": 2,
   "id": "a22489ec",
   "metadata": {},
   "outputs": [],
   "source": [
    "fr = pd.read_csv('retail_data.csv',encoding= 'unicode_escape')"
   ]
  },
  {
   "cell_type": "code",
   "execution_count": 3,
   "id": "29eaf6fb",
   "metadata": {},
   "outputs": [
    {
     "data": {
      "text/html": [
       "<div>\n",
       "<style scoped>\n",
       "    .dataframe tbody tr th:only-of-type {\n",
       "        vertical-align: middle;\n",
       "    }\n",
       "\n",
       "    .dataframe tbody tr th {\n",
       "        vertical-align: top;\n",
       "    }\n",
       "\n",
       "    .dataframe thead th {\n",
       "        text-align: right;\n",
       "    }\n",
       "</style>\n",
       "<table border=\"1\" class=\"dataframe\">\n",
       "  <thead>\n",
       "    <tr style=\"text-align: right;\">\n",
       "      <th></th>\n",
       "      <th>InvoiceNo</th>\n",
       "      <th>StockCode</th>\n",
       "      <th>Description</th>\n",
       "      <th>Quantity</th>\n",
       "      <th>InvoiceDate</th>\n",
       "      <th>UnitPrice</th>\n",
       "      <th>CustomerID</th>\n",
       "      <th>Country</th>\n",
       "    </tr>\n",
       "  </thead>\n",
       "  <tbody>\n",
       "    <tr>\n",
       "      <th>0</th>\n",
       "      <td>536365</td>\n",
       "      <td>85123A</td>\n",
       "      <td>WHITE HANGING HEART T-LIGHT HOLDER</td>\n",
       "      <td>6</td>\n",
       "      <td>12-01-2010 08:26</td>\n",
       "      <td>2.55</td>\n",
       "      <td>17850.0</td>\n",
       "      <td>United Kingdom</td>\n",
       "    </tr>\n",
       "    <tr>\n",
       "      <th>1</th>\n",
       "      <td>536365</td>\n",
       "      <td>71053</td>\n",
       "      <td>WHITE METAL LANTERN</td>\n",
       "      <td>6</td>\n",
       "      <td>12-01-2010 08:26</td>\n",
       "      <td>3.39</td>\n",
       "      <td>17850.0</td>\n",
       "      <td>United Kingdom</td>\n",
       "    </tr>\n",
       "    <tr>\n",
       "      <th>2</th>\n",
       "      <td>536365</td>\n",
       "      <td>84406B</td>\n",
       "      <td>CREAM CUPID HEARTS COAT HANGER</td>\n",
       "      <td>8</td>\n",
       "      <td>12-01-2010 08:26</td>\n",
       "      <td>2.75</td>\n",
       "      <td>17850.0</td>\n",
       "      <td>United Kingdom</td>\n",
       "    </tr>\n",
       "    <tr>\n",
       "      <th>3</th>\n",
       "      <td>536365</td>\n",
       "      <td>84029G</td>\n",
       "      <td>KNITTED UNION FLAG HOT WATER BOTTLE</td>\n",
       "      <td>6</td>\n",
       "      <td>12-01-2010 08:26</td>\n",
       "      <td>3.39</td>\n",
       "      <td>17850.0</td>\n",
       "      <td>United Kingdom</td>\n",
       "    </tr>\n",
       "    <tr>\n",
       "      <th>4</th>\n",
       "      <td>536365</td>\n",
       "      <td>84029E</td>\n",
       "      <td>RED WOOLLY HOTTIE WHITE HEART.</td>\n",
       "      <td>6</td>\n",
       "      <td>12-01-2010 08:26</td>\n",
       "      <td>3.39</td>\n",
       "      <td>17850.0</td>\n",
       "      <td>United Kingdom</td>\n",
       "    </tr>\n",
       "  </tbody>\n",
       "</table>\n",
       "</div>"
      ],
      "text/plain": [
       "  InvoiceNo StockCode                          Description  Quantity  \\\n",
       "0    536365    85123A   WHITE HANGING HEART T-LIGHT HOLDER         6   \n",
       "1    536365     71053                  WHITE METAL LANTERN         6   \n",
       "2    536365    84406B       CREAM CUPID HEARTS COAT HANGER         8   \n",
       "3    536365    84029G  KNITTED UNION FLAG HOT WATER BOTTLE         6   \n",
       "4    536365    84029E       RED WOOLLY HOTTIE WHITE HEART.         6   \n",
       "\n",
       "        InvoiceDate  UnitPrice  CustomerID         Country  \n",
       "0  12-01-2010 08:26       2.55     17850.0  United Kingdom  \n",
       "1  12-01-2010 08:26       3.39     17850.0  United Kingdom  \n",
       "2  12-01-2010 08:26       2.75     17850.0  United Kingdom  \n",
       "3  12-01-2010 08:26       3.39     17850.0  United Kingdom  \n",
       "4  12-01-2010 08:26       3.39     17850.0  United Kingdom  "
      ]
     },
     "execution_count": 3,
     "metadata": {},
     "output_type": "execute_result"
    }
   ],
   "source": [
    "fr.head()"
   ]
  },
  {
   "cell_type": "code",
   "execution_count": 4,
   "id": "2649e318",
   "metadata": {},
   "outputs": [
    {
     "data": {
      "text/html": [
       "<div>\n",
       "<style scoped>\n",
       "    .dataframe tbody tr th:only-of-type {\n",
       "        vertical-align: middle;\n",
       "    }\n",
       "\n",
       "    .dataframe tbody tr th {\n",
       "        vertical-align: top;\n",
       "    }\n",
       "\n",
       "    .dataframe thead th {\n",
       "        text-align: right;\n",
       "    }\n",
       "</style>\n",
       "<table border=\"1\" class=\"dataframe\">\n",
       "  <thead>\n",
       "    <tr style=\"text-align: right;\">\n",
       "      <th></th>\n",
       "      <th>InvoiceNo</th>\n",
       "      <th>StockCode</th>\n",
       "      <th>Description</th>\n",
       "      <th>Quantity</th>\n",
       "      <th>InvoiceDate</th>\n",
       "      <th>UnitPrice</th>\n",
       "      <th>CustomerID</th>\n",
       "      <th>Country</th>\n",
       "    </tr>\n",
       "  </thead>\n",
       "  <tbody>\n",
       "    <tr>\n",
       "      <th>541904</th>\n",
       "      <td>581587</td>\n",
       "      <td>22613</td>\n",
       "      <td>PACK OF 20 SPACEBOY NAPKINS</td>\n",
       "      <td>12</td>\n",
       "      <td>12-09-2011 12:50</td>\n",
       "      <td>0.85</td>\n",
       "      <td>12680.0</td>\n",
       "      <td>France</td>\n",
       "    </tr>\n",
       "    <tr>\n",
       "      <th>541905</th>\n",
       "      <td>581587</td>\n",
       "      <td>22899</td>\n",
       "      <td>CHILDREN'S APRON DOLLY GIRL</td>\n",
       "      <td>6</td>\n",
       "      <td>12-09-2011 12:50</td>\n",
       "      <td>2.10</td>\n",
       "      <td>12680.0</td>\n",
       "      <td>France</td>\n",
       "    </tr>\n",
       "    <tr>\n",
       "      <th>541906</th>\n",
       "      <td>581587</td>\n",
       "      <td>23254</td>\n",
       "      <td>CHILDRENS CUTLERY DOLLY GIRL</td>\n",
       "      <td>4</td>\n",
       "      <td>12-09-2011 12:50</td>\n",
       "      <td>4.15</td>\n",
       "      <td>12680.0</td>\n",
       "      <td>France</td>\n",
       "    </tr>\n",
       "    <tr>\n",
       "      <th>541907</th>\n",
       "      <td>581587</td>\n",
       "      <td>23255</td>\n",
       "      <td>CHILDRENS CUTLERY CIRCUS PARADE</td>\n",
       "      <td>4</td>\n",
       "      <td>12-09-2011 12:50</td>\n",
       "      <td>4.15</td>\n",
       "      <td>12680.0</td>\n",
       "      <td>France</td>\n",
       "    </tr>\n",
       "    <tr>\n",
       "      <th>541908</th>\n",
       "      <td>581587</td>\n",
       "      <td>22138</td>\n",
       "      <td>BAKING SET 9 PIECE RETROSPOT</td>\n",
       "      <td>3</td>\n",
       "      <td>12-09-2011 12:50</td>\n",
       "      <td>4.95</td>\n",
       "      <td>12680.0</td>\n",
       "      <td>France</td>\n",
       "    </tr>\n",
       "  </tbody>\n",
       "</table>\n",
       "</div>"
      ],
      "text/plain": [
       "       InvoiceNo StockCode                      Description  Quantity  \\\n",
       "541904    581587     22613      PACK OF 20 SPACEBOY NAPKINS        12   \n",
       "541905    581587     22899     CHILDREN'S APRON DOLLY GIRL          6   \n",
       "541906    581587     23254    CHILDRENS CUTLERY DOLLY GIRL          4   \n",
       "541907    581587     23255  CHILDRENS CUTLERY CIRCUS PARADE         4   \n",
       "541908    581587     22138    BAKING SET 9 PIECE RETROSPOT          3   \n",
       "\n",
       "             InvoiceDate  UnitPrice  CustomerID Country  \n",
       "541904  12-09-2011 12:50       0.85     12680.0  France  \n",
       "541905  12-09-2011 12:50       2.10     12680.0  France  \n",
       "541906  12-09-2011 12:50       4.15     12680.0  France  \n",
       "541907  12-09-2011 12:50       4.15     12680.0  France  \n",
       "541908  12-09-2011 12:50       4.95     12680.0  France  "
      ]
     },
     "execution_count": 4,
     "metadata": {},
     "output_type": "execute_result"
    }
   ],
   "source": [
    "fr.tail()"
   ]
  },
  {
   "cell_type": "code",
   "execution_count": 5,
   "id": "146a4de2",
   "metadata": {},
   "outputs": [
    {
     "name": "stdout",
     "output_type": "stream",
     "text": [
      "<class 'pandas.core.frame.DataFrame'>\n",
      "RangeIndex: 541909 entries, 0 to 541908\n",
      "Data columns (total 8 columns):\n",
      " #   Column       Non-Null Count   Dtype  \n",
      "---  ------       --------------   -----  \n",
      " 0   InvoiceNo    541909 non-null  object \n",
      " 1   StockCode    541909 non-null  object \n",
      " 2   Description  540455 non-null  object \n",
      " 3   Quantity     541909 non-null  int64  \n",
      " 4   InvoiceDate  541909 non-null  object \n",
      " 5   UnitPrice    541909 non-null  float64\n",
      " 6   CustomerID   406829 non-null  float64\n",
      " 7   Country      541909 non-null  object \n",
      "dtypes: float64(2), int64(1), object(5)\n",
      "memory usage: 33.1+ MB\n"
     ]
    }
   ],
   "source": [
    "fr.info()"
   ]
  },
  {
   "cell_type": "code",
   "execution_count": 6,
   "id": "8ff56468",
   "metadata": {},
   "outputs": [
    {
     "data": {
      "text/html": [
       "<div>\n",
       "<style scoped>\n",
       "    .dataframe tbody tr th:only-of-type {\n",
       "        vertical-align: middle;\n",
       "    }\n",
       "\n",
       "    .dataframe tbody tr th {\n",
       "        vertical-align: top;\n",
       "    }\n",
       "\n",
       "    .dataframe thead th {\n",
       "        text-align: right;\n",
       "    }\n",
       "</style>\n",
       "<table border=\"1\" class=\"dataframe\">\n",
       "  <thead>\n",
       "    <tr style=\"text-align: right;\">\n",
       "      <th></th>\n",
       "      <th>Quantity</th>\n",
       "      <th>UnitPrice</th>\n",
       "      <th>CustomerID</th>\n",
       "    </tr>\n",
       "  </thead>\n",
       "  <tbody>\n",
       "    <tr>\n",
       "      <th>count</th>\n",
       "      <td>541909.000000</td>\n",
       "      <td>541909.000000</td>\n",
       "      <td>406829.000000</td>\n",
       "    </tr>\n",
       "    <tr>\n",
       "      <th>mean</th>\n",
       "      <td>9.552250</td>\n",
       "      <td>4.611114</td>\n",
       "      <td>15287.690570</td>\n",
       "    </tr>\n",
       "    <tr>\n",
       "      <th>std</th>\n",
       "      <td>218.081158</td>\n",
       "      <td>96.759853</td>\n",
       "      <td>1713.600303</td>\n",
       "    </tr>\n",
       "    <tr>\n",
       "      <th>min</th>\n",
       "      <td>-80995.000000</td>\n",
       "      <td>-11062.060000</td>\n",
       "      <td>12346.000000</td>\n",
       "    </tr>\n",
       "    <tr>\n",
       "      <th>25%</th>\n",
       "      <td>1.000000</td>\n",
       "      <td>1.250000</td>\n",
       "      <td>13953.000000</td>\n",
       "    </tr>\n",
       "    <tr>\n",
       "      <th>50%</th>\n",
       "      <td>3.000000</td>\n",
       "      <td>2.080000</td>\n",
       "      <td>15152.000000</td>\n",
       "    </tr>\n",
       "    <tr>\n",
       "      <th>75%</th>\n",
       "      <td>10.000000</td>\n",
       "      <td>4.130000</td>\n",
       "      <td>16791.000000</td>\n",
       "    </tr>\n",
       "    <tr>\n",
       "      <th>max</th>\n",
       "      <td>80995.000000</td>\n",
       "      <td>38970.000000</td>\n",
       "      <td>18287.000000</td>\n",
       "    </tr>\n",
       "  </tbody>\n",
       "</table>\n",
       "</div>"
      ],
      "text/plain": [
       "            Quantity      UnitPrice     CustomerID\n",
       "count  541909.000000  541909.000000  406829.000000\n",
       "mean        9.552250       4.611114   15287.690570\n",
       "std       218.081158      96.759853    1713.600303\n",
       "min    -80995.000000  -11062.060000   12346.000000\n",
       "25%         1.000000       1.250000   13953.000000\n",
       "50%         3.000000       2.080000   15152.000000\n",
       "75%        10.000000       4.130000   16791.000000\n",
       "max     80995.000000   38970.000000   18287.000000"
      ]
     },
     "execution_count": 6,
     "metadata": {},
     "output_type": "execute_result"
    }
   ],
   "source": [
    "fr.describe()"
   ]
  },
  {
   "cell_type": "code",
   "execution_count": 7,
   "id": "861fe0b0",
   "metadata": {},
   "outputs": [
    {
     "data": {
      "text/plain": [
       "InvoiceNo      25900\n",
       "StockCode       4070\n",
       "Description     4223\n",
       "Quantity         722\n",
       "InvoiceDate    23260\n",
       "UnitPrice       1630\n",
       "CustomerID      4372\n",
       "Country           38\n",
       "dtype: int64"
      ]
     },
     "execution_count": 7,
     "metadata": {},
     "output_type": "execute_result"
    }
   ],
   "source": [
    "fr.nunique()"
   ]
  },
  {
   "cell_type": "code",
   "execution_count": 8,
   "id": "95e12c39",
   "metadata": {},
   "outputs": [
    {
     "data": {
      "text/plain": [
       "array(['WHITE HANGING HEART T-LIGHT HOLDER', 'WHITE METAL LANTERN',\n",
       "       'CREAM CUPID HEARTS COAT HANGER', ..., 'lost',\n",
       "       'CREAM HANGING HEART T-LIGHT HOLDER',\n",
       "       'PAPER CRAFT , LITTLE BIRDIE'], dtype=object)"
      ]
     },
     "execution_count": 8,
     "metadata": {},
     "output_type": "execute_result"
    }
   ],
   "source": [
    "fr['Description'].unique()"
   ]
  },
  {
   "cell_type": "code",
   "execution_count": 9,
   "id": "a0b723b3",
   "metadata": {},
   "outputs": [
    {
     "data": {
      "text/plain": [
       "array(['United Kingdom', 'France', 'Australia', 'Netherlands', 'Germany',\n",
       "       'Norway', 'EIRE', 'Switzerland', 'Spain', 'Poland', 'Portugal',\n",
       "       'Italy', 'Belgium', 'Lithuania', 'Japan', 'Iceland',\n",
       "       'Channel Islands', 'Denmark', 'Cyprus', 'Sweden', 'Austria',\n",
       "       'Israel', 'Finland', 'Bahrain', 'Greece', 'Hong Kong', 'Singapore',\n",
       "       'Lebanon', 'United Arab Emirates', 'Saudi Arabia',\n",
       "       'Czech Republic', 'Canada', 'Unspecified', 'Brazil', 'USA',\n",
       "       'European Community', 'Malta', 'RSA'], dtype=object)"
      ]
     },
     "execution_count": 9,
     "metadata": {},
     "output_type": "execute_result"
    }
   ],
   "source": [
    "fr['Country'].unique()"
   ]
  },
  {
   "cell_type": "code",
   "execution_count": 10,
   "id": "db444b1f",
   "metadata": {},
   "outputs": [
    {
     "data": {
      "text/plain": [
       "2498803.974"
      ]
     },
     "execution_count": 10,
     "metadata": {},
     "output_type": "execute_result"
    }
   ],
   "source": [
    "fr.UnitPrice.sum()"
   ]
  },
  {
   "cell_type": "code",
   "execution_count": 11,
   "id": "7d1c83ce",
   "metadata": {},
   "outputs": [
    {
     "data": {
      "text/plain": [
       "5176450"
      ]
     },
     "execution_count": 11,
     "metadata": {},
     "output_type": "execute_result"
    }
   ],
   "source": [
    "fr.Quantity.sum()"
   ]
  },
  {
   "cell_type": "code",
   "execution_count": 12,
   "id": "5558ded7",
   "metadata": {},
   "outputs": [],
   "source": [
    "d = {}\n",
    "for name in fr['Country'].unique():\n",
    "    d[name] = 0\n",
    "for val in fr['Country']:\n",
    "    d[val]+=1\n",
    "\n",
    "    "
   ]
  },
  {
   "cell_type": "code",
   "execution_count": 13,
   "id": "7e907c66",
   "metadata": {},
   "outputs": [],
   "source": [
    "c = d.keys()\n",
    "quant = d.values()"
   ]
  },
  {
   "cell_type": "code",
   "execution_count": 14,
   "id": "b8c73fd3",
   "metadata": {},
   "outputs": [
    {
     "data": {
      "text/plain": [
       "Text(0, 0.5, 'stock')"
      ]
     },
     "execution_count": 14,
     "metadata": {},
     "output_type": "execute_result"
    },
    {
     "data": {
      "image/png": "[encoded data removed]",
      "text/plain": [
       "<Figure size 432x288 with 1 Axes>"
      ]
     },
     "metadata": {
      "needs_background": "light"
     },
     "output_type": "display_data"
    }
   ],
   "source": [
    "plt.bar(c,quant)\n",
    "plt.xlabel('countries')\n",
    "plt.ylabel('stock')"
   ]
  },
  {
   "cell_type": "code",
   "execution_count": 15,
   "id": "7b5a761b",
   "metadata": {},
   "outputs": [
    {
     "data": {
      "text/plain": [
       "<matplotlib.collections.PathCollection at 0x2654d390670>"
      ]
     },
     "execution_count": 15,
     "metadata": {},
     "output_type": "execute_result"
    },
    {
     "data": {
      "image/png": "[encoded data removed]",
      "text/plain": [
       "<Figure size 432x288 with 1 Axes>"
      ]
     },
     "metadata": {
      "needs_background": "light"
     },
     "output_type": "display_data"
    }
   ],
   "source": [
    "plt.scatter(c,quant)"
   ]
  },
  {
   "cell_type": "code",
   "execution_count": 16,
   "id": "2d33a3b0",
   "metadata": {},
   "outputs": [
    {
     "data": {
      "text/plain": [
       "([<matplotlib.patches.Wedge at 0x2654d4469b0>,\n",
       "  <matplotlib.patches.Wedge at 0x2654d446e30>,\n",
       "  <matplotlib.patches.Wedge at 0x2654d4472b0>,\n",
       "  <matplotlib.patches.Wedge at 0x2654d447790>,\n",
       "  <matplotlib.patches.Wedge at 0x2654d447c70>,\n",
       "  <matplotlib.patches.Wedge at 0x2654d4740a0>,\n",
       "  <matplotlib.patches.Wedge at 0x2654d4744f0>,\n",
       "  <matplotlib.patches.Wedge at 0x2654d4749d0>,\n",
       "  <matplotlib.patches.Wedge at 0x2654d474eb0>,\n",
       "  <matplotlib.patches.Wedge at 0x2654d475390>,\n",
       "  <matplotlib.patches.Wedge at 0x2654d445ab0>,\n",
       "  <matplotlib.patches.Wedge at 0x2654d475d20>,\n",
       "  <matplotlib.patches.Wedge at 0x2654d476200>,\n",
       "  <matplotlib.patches.Wedge at 0x2654d4766e0>,\n",
       "  <matplotlib.patches.Wedge at 0x2654d476bc0>,\n",
       "  <matplotlib.patches.Wedge at 0x2654d4770a0>,\n",
       "  <matplotlib.patches.Wedge at 0x2654d477580>,\n",
       "  <matplotlib.patches.Wedge at 0x2654d477a60>,\n",
       "  <matplotlib.patches.Wedge at 0x2654d477f40>,\n",
       "  <matplotlib.patches.Wedge at 0x2654d4a8460>,\n",
       "  <matplotlib.patches.Wedge at 0x2654d4a8940>,\n",
       "  <matplotlib.patches.Wedge at 0x2654d4a8e20>,\n",
       "  <matplotlib.patches.Wedge at 0x2654d4a9300>,\n",
       "  <matplotlib.patches.Wedge at 0x2654d4a97e0>,\n",
       "  <matplotlib.patches.Wedge at 0x2654d4a9cc0>,\n",
       "  <matplotlib.patches.Wedge at 0x2654d4aa1a0>,\n",
       "  <matplotlib.patches.Wedge at 0x2654d4aa680>,\n",
       "  <matplotlib.patches.Wedge at 0x2654d4aab60>,\n",
       "  <matplotlib.patches.Wedge at 0x2654d4ab040>,\n",
       "  <matplotlib.patches.Wedge at 0x2654d4ab520>,\n",
       "  <matplotlib.patches.Wedge at 0x2654d4aba00>,\n",
       "  <matplotlib.patches.Wedge at 0x2654d4abee0>,\n",
       "  <matplotlib.patches.Wedge at 0x2654d4dc400>,\n",
       "  <matplotlib.patches.Wedge at 0x2654d4dc8e0>,\n",
       "  <matplotlib.patches.Wedge at 0x2654d4dcdc0>,\n",
       "  <matplotlib.patches.Wedge at 0x2654d4dd2a0>,\n",
       "  <matplotlib.patches.Wedge at 0x2654d4dd780>,\n",
       "  <matplotlib.patches.Wedge at 0x2654d4ddc60>],\n",
       " [Text(-1.0603902707085326, 0.2925277316540858, 'United Kingdom'),\n",
       "  Text(0.9712183056621286, -0.5164639413809876, 'France'),\n",
       "  Text(0.9990202220511505, -0.4603896131896006, 'Australia'),\n",
       "  Text(1.008486785239069, -0.43926575554915254, 'Netherlands'),\n",
       "  Text(1.0362950287238963, -0.36890732364936774, 'Germany'),\n",
       "  Text(1.0569609259279271, -0.30468606968743955, 'Norway'),\n",
       "  Text(1.0718183818040081, -0.24739716333668316, 'EIRE'),\n",
       "  Text(1.0845635351958365, -0.1836353400724103, 'Switzerland'),\n",
       "  Text(1.089016064005174, -0.1550613179960708, 'Spain'),\n",
       "  Text(1.0914483236548216, -0.13689615331001873, 'Poland'),\n",
       "  Text(1.092860984082623, -0.12511942083450073, 'Portugal'),\n",
       "  Text(1.0944461836012116, -0.1103972427225571, 'Italy'),\n",
       "  Text(1.0961324914592478, -0.09216051848455636, 'Belgium'),\n",
       "  Text(1.0971750482522218, -0.07878396723150519, 'Lithuania'),\n",
       "  Text(1.0973516961400354, -0.0762840414411009, 'Japan'),\n",
       "  Text(1.0975851277677096, -0.07284838572776454, 'Iceland'),\n",
       "  Text(1.0979658111591595, -0.06686611642386099, 'Channel Islands'),\n",
       "  Text(1.0983861585894403, -0.059563802927056694, 'Denmark'),\n",
       "  Text(1.098716396697531, -0.05312513179271946, 'Cyprus'),\n",
       "  Text(1.099028550592854, -0.04621953030668749, 'Sweden'),\n",
       "  Text(1.0992460334025036, -0.04072048684461053, 'Austria'),\n",
       "  Text(1.0994018085923833, -0.03627207278054052, 'Israel'),\n",
       "  Text(1.0995922241262084, -0.029948967280667538, 'Finland'),\n",
       "  Text(1.0997067701907315, -0.02539723600453335, 'Bahrain'),\n",
       "  Text(1.0997305607932193, -0.0243453005204681, 'Greece'),\n",
       "  Text(1.0997883330465863, -0.02157828757365226, 'Hong Kong'),\n",
       "  Text(1.0998480673735953, -0.018281922616828504, 'Singapore'),\n",
       "  Text(1.0998757197590405, -0.016534844557253146, 'Lebanon'),\n",
       "  Text(1.0998863155912721, -0.015814321833599203, 'United Arab Emirates'),\n",
       "  Text(1.0998933541740967, -0.015316965876275321, 'Saudi Arabia'),\n",
       "  Text(1.099896876464837, -0.015061910333537749, 'Czech Republic'),\n",
       "  Text(1.099912075496115, -0.0139077740069743, 'Canada'),\n",
       "  Text(1.0999536222498365, -0.010100935573715874, 'Unspecified'),\n",
       "  Text(1.0999773896139464, -0.00705282483043225, 'Brazil'),\n",
       "  Text(1.0999886677104815, -0.004993086071755792, 'USA'),\n",
       "  Text(1.0999965664996727, -0.0027483975206071504, 'European Community'),\n",
       "  Text(1.0999989086239288, -0.0015495244966199696, 'Malta'),\n",
       "  Text(1.0999999378464944, -0.00036978062216880655, 'RSA')])"
      ]
     },
     "execution_count": 16,
     "metadata": {},
     "output_type": "execute_result"
    },
    {
     "data": {
      "image/png": "[encoded data removed]",
      "text/plain": [
       "<Figure size 432x288 with 1 Axes>"
      ]
     },
     "metadata": {},
     "output_type": "display_data"
    }
   ],
   "source": [
    "plt.pie(quant,labels=c)"
   ]
  },
  {
   "cell_type": "code",
   "execution_count": null,
   "id": "c1031a4a",
   "metadata": {},
   "outputs": [],
   "source": []
  }
 ],
 "metadata": {
  "kernelspec": {
   "display_name": "Python 3 (ipykernel)",
   "language": "python",
   "name": "python3"
  },
  "language_info": {
   "codemirror_mode": {
    "name": "ipython",
    "version": 3
   },
   "file_extension": ".py",
   "mimetype": "text/x-python",
   "name": "python",
   "nbconvert_exporter": "python",
   "pygments_lexer": "ipython3",
   "version": "3.10.0"
  }
 },
 "nbformat": 4,
 "nbformat_minor": 5
}
